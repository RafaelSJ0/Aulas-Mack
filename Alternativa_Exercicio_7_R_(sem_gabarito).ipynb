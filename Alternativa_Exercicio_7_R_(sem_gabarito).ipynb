{
  "nbformat": 4,
  "nbformat_minor": 0,
  "metadata": {
    "colab": {
      "provenance": [],
      "include_colab_link": true
    },
    "kernelspec": {
      "name": "ir",
      "display_name": "R"
    },
    "language_info": {
      "name": "R"
    }
  },
  "cells": [
    {
      "cell_type": "markdown",
      "metadata": {
        "id": "view-in-github",
        "colab_type": "text"
      },
      "source": [
        "<a href=\"https://colab.research.google.com/github/RafaelSJ0/Aulas-Mack/blob/main/Alternativa_Exercicio_7_R_(sem_gabarito).ipynb\" target=\"_parent\"><img src=\"https://colab.research.google.com/assets/colab-badge.svg\" alt=\"Open In Colab\"/></a>"
      ]
    },
    {
      "cell_type": "markdown",
      "source": [
        "# Analise do Cartão de Pagamento do Governo Federal (CPGF)\n",
        "\n"
      ],
      "metadata": {
        "id": "vuEIOD9qOyEw"
      }
    },
    {
      "cell_type": "markdown",
      "source": [
        "Que tal conhecermos um pouco mais sobre o Cartão de Pagamento do Governo Federal (CPGF)?\n",
        "\n",
        "O CPGF é um instrumento de pagamento utilizado pelo Governo Federal para aquisição de bens e serviços. Ele é utilizado para pagamentos de despesas como diárias, passagens, material de consumo, serviços de consultoria, entre outros.\n",
        "\n",
        "O CPGF é emitido em nome de um órgão ou entidade da Administração Pública Federal, e pode ser utilizado por servidores públicos ou por terceiros autorizados. Ele é aceito em estabelecimentos credenciados pela rede VISA e permite o pagamento à vista ou parcelado.\n",
        "\n",
        "O controle e gestão do uso do CPGF é realizado por meio de sistemas informatizados que permitem a verificação da regularidade e conformidade das despesas realizadas com o cartão. Além disso, o uso inadequado do CPGF pode levar a punições administrativas e até mesmo penais, dependendo da gravidade do caso.\n",
        "\n",
        " Por meio do Portal da Transparência, é possível acessar informações sobre as despesas realizadas com o CPGF, e assim, contribuir para a fiscalização e transparência no uso desse instrumento de pagamento. Que tal brincarmos com essa base de dados e explorarmos as informações disponíveis? Vamos lá!\n",
        "\n"
      ],
      "metadata": {
        "id": "cvz7qkhhO6Ef"
      }
    },
    {
      "cell_type": "markdown",
      "source": [
        "## Carregando o arquivo\n",
        "\n",
        "Os dados estão disponiveis no link https://portaldatransparencia.gov.br/download-de-dados/cpgf. Para facilitar a brincadeira hoje, subi um arquivo que já esta ajustado em seu formato para facilitar a vida. Entao, vamos carregar ele."
      ],
      "metadata": {
        "id": "iSaQ-QzrREaQ"
      }
    },
    {
      "cell_type": "code",
      "source": [
        "library(tidyverse)\n",
        "\n",
        "dados_cpgf <- read.table(\"https://tweets2.s3.amazonaws.com/CPGF_2013_2022_utf-8.csv\", header=T, quote=\"\\\"\", sep=\",\")\n",
        "head(dados_cpgf)"
      ],
      "metadata": {
        "colab": {
          "base_uri": "https://localhost:8080/",
          "height": 1000
        },
        "id": "CR6PIvIgLBqQ",
        "outputId": "d8192e99-c8c2-47d0-efa5-a3a56e5beb9a"
      },
      "execution_count": null,
      "outputs": [
        {
          "output_type": "stream",
          "name": "stderr",
          "text": [
            "Warning message in system(\"timedatectl\", intern = TRUE):\n",
            "“running command 'timedatectl' had status 1”\n",
            "── \u001b[1mAttaching packages\u001b[22m ─────────────────────────────────────── tidyverse 1.3.1 ──\n",
            "\n",
            "\u001b[32m✔\u001b[39m \u001b[34mggplot2\u001b[39m 3.4.1     \u001b[32m✔\u001b[39m \u001b[34mpurrr  \u001b[39m 1.0.1\n",
            "\u001b[32m✔\u001b[39m \u001b[34mtibble \u001b[39m 3.2.0     \u001b[32m✔\u001b[39m \u001b[34mdplyr  \u001b[39m 1.1.0\n",
            "\u001b[32m✔\u001b[39m \u001b[34mtidyr  \u001b[39m 1.3.0     \u001b[32m✔\u001b[39m \u001b[34mstringr\u001b[39m 1.4.1\n",
            "\u001b[32m✔\u001b[39m \u001b[34mreadr  \u001b[39m 2.1.4     \u001b[32m✔\u001b[39m \u001b[34mforcats\u001b[39m 1.0.0\n",
            "\n",
            "── \u001b[1mConflicts\u001b[22m ────────────────────────────────────────── tidyverse_conflicts() ──\n",
            "\u001b[31m✖\u001b[39m \u001b[34mdplyr\u001b[39m::\u001b[32mfilter()\u001b[39m masks \u001b[34mstats\u001b[39m::filter()\n",
            "\u001b[31m✖\u001b[39m \u001b[34mdplyr\u001b[39m::\u001b[32mlag()\u001b[39m    masks \u001b[34mstats\u001b[39m::lag()\n",
            "\n"
          ]
        },
        {
          "output_type": "display_data",
          "data": {
            "text/html": [
              "<table class=\"dataframe\">\n",
              "<caption>A data.frame: 6 × 15</caption>\n",
              "<thead>\n",
              "\t<tr><th></th><th scope=col>CODIGO_ORGAO_SUPERIOR</th><th scope=col>NOME_ORGAO_SUPERIOR</th><th scope=col>CODIGO_ORGAO</th><th scope=col>NOME_ORGAO</th><th scope=col>CODIGO_UNIDADE_GESTORA</th><th scope=col>NOME_UNIDADE_GESTORA</th><th scope=col>ANO_EXTRATO</th><th scope=col>MES_EXTRATO</th><th scope=col>CPF_PORTADOR</th><th scope=col>NOME_PORTADOR</th><th scope=col>CNPJ_OU_CPF_FAVORECIDO</th><th scope=col>NOME_FAVORECIDO</th><th scope=col>TRANSACAO</th><th scope=col>DATA_TRANSACAO</th><th scope=col>VALOR_TRANSACAO</th></tr>\n",
              "\t<tr><th></th><th scope=col>&lt;int&gt;</th><th scope=col>&lt;chr&gt;</th><th scope=col>&lt;int&gt;</th><th scope=col>&lt;chr&gt;</th><th scope=col>&lt;int&gt;</th><th scope=col>&lt;chr&gt;</th><th scope=col>&lt;int&gt;</th><th scope=col>&lt;int&gt;</th><th scope=col>&lt;chr&gt;</th><th scope=col>&lt;chr&gt;</th><th scope=col>&lt;dbl&gt;</th><th scope=col>&lt;chr&gt;</th><th scope=col>&lt;chr&gt;</th><th scope=col>&lt;chr&gt;</th><th scope=col>&lt;dbl&gt;</th></tr>\n",
              "</thead>\n",
              "<tbody>\n",
              "\t<tr><th scope=row>1</th><td>63000</td><td>Advocacia-Geral da União</td><td>63000</td><td>Advocacia-Geral da União - Unidades com vínculo direto</td><td>110096</td><td>SUPERINTENDENCIA ADMINISTRACAO EM PERNAMBUCO</td><td>2013</td><td>1</td><td>***.541.564-**</td><td>FELLIPE JOSE DA ROCHA MUNT   </td><td>           -2</td><td>NAO SE APLICA                                </td><td>SAQUE CASH/ATM BB      </td><td>19/12/2012</td><td> 70</td></tr>\n",
              "\t<tr><th scope=row>2</th><td>63000</td><td>Advocacia-Geral da União</td><td>63000</td><td>Advocacia-Geral da União - Unidades com vínculo direto</td><td>110096</td><td>SUPERINTENDENCIA ADMINISTRACAO EM PERNAMBUCO</td><td>2013</td><td>1</td><td>***.232.401-**</td><td>IZAR ARLINDO DANTAS          </td><td>7598094000191</td><td>P W COMERCIO DE MATERIAIS DE CONSTRUCOES LTDA</td><td>COMPRA A/V - R$ - APRES</td><td>29/11/2012</td><td>300</td></tr>\n",
              "\t<tr><th scope=row>3</th><td>63000</td><td>Advocacia-Geral da União</td><td>63000</td><td>Advocacia-Geral da União - Unidades com vínculo direto</td><td>110096</td><td>SUPERINTENDENCIA ADMINISTRACAO EM PERNAMBUCO</td><td>2013</td><td>1</td><td>***.492.683-**</td><td>FERNANDO LEITE MATOS         </td><td>2550672000449</td><td>SPINDOLA GAS LTDA                            </td><td>COMPRA A/V - R$ - APRES</td><td>04/12/2012</td><td> 37</td></tr>\n",
              "\t<tr><th scope=row>4</th><td>63000</td><td>Advocacia-Geral da União</td><td>63000</td><td>Advocacia-Geral da União - Unidades com vínculo direto</td><td>110096</td><td>SUPERINTENDENCIA ADMINISTRACAO EM PERNAMBUCO</td><td>2013</td><td>1</td><td>***.562.794-**</td><td>FABIO NOBRE CALIFE           </td><td>2537707000167</td><td>ANDRADE ARTIGOS PARA PRESENTES LTDA          </td><td>COMPRA A/V - R$ - APRES</td><td>13/12/2012</td><td> 30</td></tr>\n",
              "\t<tr><th scope=row>5</th><td>63000</td><td>Advocacia-Geral da União</td><td>63000</td><td>Advocacia-Geral da União - Unidades com vínculo direto</td><td>110096</td><td>SUPERINTENDENCIA ADMINISTRACAO EM PERNAMBUCO</td><td>2013</td><td>1</td><td>***.906.824-**</td><td>VLADIMIR XAVIER VASQUES VIANA</td><td>1106085000150</td><td>POSTO DE COMBUSTIVEIS SAO MARCOS LTDA        </td><td>COMPRA A/V - R$ - APRES</td><td>14/12/2012</td><td> 37</td></tr>\n",
              "\t<tr><th scope=row>6</th><td>63000</td><td>Advocacia-Geral da União</td><td>63000</td><td>Advocacia-Geral da União - Unidades com vínculo direto</td><td>110096</td><td>SUPERINTENDENCIA ADMINISTRACAO EM PERNAMBUCO</td><td>2013</td><td>1</td><td>***.996.185-**</td><td>CELIMAR DA FONSECA HAGE      </td><td>4105190000162</td><td>COMERCIAL DE COUROS E PLASTICOS ILHEUS LTDA  </td><td>COMPRA A/V - R$ - APRES</td><td>30/11/2012</td><td>211</td></tr>\n",
              "</tbody>\n",
              "</table>\n"
            ],
            "text/markdown": "\nA data.frame: 6 × 15\n\n| <!--/--> | CODIGO_ORGAO_SUPERIOR &lt;int&gt; | NOME_ORGAO_SUPERIOR &lt;chr&gt; | CODIGO_ORGAO &lt;int&gt; | NOME_ORGAO &lt;chr&gt; | CODIGO_UNIDADE_GESTORA &lt;int&gt; | NOME_UNIDADE_GESTORA &lt;chr&gt; | ANO_EXTRATO &lt;int&gt; | MES_EXTRATO &lt;int&gt; | CPF_PORTADOR &lt;chr&gt; | NOME_PORTADOR &lt;chr&gt; | CNPJ_OU_CPF_FAVORECIDO &lt;dbl&gt; | NOME_FAVORECIDO &lt;chr&gt; | TRANSACAO &lt;chr&gt; | DATA_TRANSACAO &lt;chr&gt; | VALOR_TRANSACAO &lt;dbl&gt; |\n|---|---|---|---|---|---|---|---|---|---|---|---|---|---|---|---|\n| 1 | 63000 | Advocacia-Geral da União | 63000 | Advocacia-Geral da União - Unidades com vínculo direto | 110096 | SUPERINTENDENCIA ADMINISTRACAO EM PERNAMBUCO | 2013 | 1 | ***.541.564-** | FELLIPE JOSE DA ROCHA MUNT    |            -2 | NAO SE APLICA                                 | SAQUE CASH/ATM BB       | 19/12/2012 |  70 |\n| 2 | 63000 | Advocacia-Geral da União | 63000 | Advocacia-Geral da União - Unidades com vínculo direto | 110096 | SUPERINTENDENCIA ADMINISTRACAO EM PERNAMBUCO | 2013 | 1 | ***.232.401-** | IZAR ARLINDO DANTAS           | 7598094000191 | P W COMERCIO DE MATERIAIS DE CONSTRUCOES LTDA | COMPRA A/V - R$ - APRES | 29/11/2012 | 300 |\n| 3 | 63000 | Advocacia-Geral da União | 63000 | Advocacia-Geral da União - Unidades com vínculo direto | 110096 | SUPERINTENDENCIA ADMINISTRACAO EM PERNAMBUCO | 2013 | 1 | ***.492.683-** | FERNANDO LEITE MATOS          | 2550672000449 | SPINDOLA GAS LTDA                             | COMPRA A/V - R$ - APRES | 04/12/2012 |  37 |\n| 4 | 63000 | Advocacia-Geral da União | 63000 | Advocacia-Geral da União - Unidades com vínculo direto | 110096 | SUPERINTENDENCIA ADMINISTRACAO EM PERNAMBUCO | 2013 | 1 | ***.562.794-** | FABIO NOBRE CALIFE            | 2537707000167 | ANDRADE ARTIGOS PARA PRESENTES LTDA           | COMPRA A/V - R$ - APRES | 13/12/2012 |  30 |\n| 5 | 63000 | Advocacia-Geral da União | 63000 | Advocacia-Geral da União - Unidades com vínculo direto | 110096 | SUPERINTENDENCIA ADMINISTRACAO EM PERNAMBUCO | 2013 | 1 | ***.906.824-** | VLADIMIR XAVIER VASQUES VIANA | 1106085000150 | POSTO DE COMBUSTIVEIS SAO MARCOS LTDA         | COMPRA A/V - R$ - APRES | 14/12/2012 |  37 |\n| 6 | 63000 | Advocacia-Geral da União | 63000 | Advocacia-Geral da União - Unidades com vínculo direto | 110096 | SUPERINTENDENCIA ADMINISTRACAO EM PERNAMBUCO | 2013 | 1 | ***.996.185-** | CELIMAR DA FONSECA HAGE       | 4105190000162 | COMERCIAL DE COUROS E PLASTICOS ILHEUS LTDA   | COMPRA A/V - R$ - APRES | 30/11/2012 | 211 |\n\n",
            "text/latex": "A data.frame: 6 × 15\n\\begin{tabular}{r|lllllllllllllll}\n  & CODIGO\\_ORGAO\\_SUPERIOR & NOME\\_ORGAO\\_SUPERIOR & CODIGO\\_ORGAO & NOME\\_ORGAO & CODIGO\\_UNIDADE\\_GESTORA & NOME\\_UNIDADE\\_GESTORA & ANO\\_EXTRATO & MES\\_EXTRATO & CPF\\_PORTADOR & NOME\\_PORTADOR & CNPJ\\_OU\\_CPF\\_FAVORECIDO & NOME\\_FAVORECIDO & TRANSACAO & DATA\\_TRANSACAO & VALOR\\_TRANSACAO\\\\\n  & <int> & <chr> & <int> & <chr> & <int> & <chr> & <int> & <int> & <chr> & <chr> & <dbl> & <chr> & <chr> & <chr> & <dbl>\\\\\n\\hline\n\t1 & 63000 & Advocacia-Geral da União & 63000 & Advocacia-Geral da União - Unidades com vínculo direto & 110096 & SUPERINTENDENCIA ADMINISTRACAO EM PERNAMBUCO & 2013 & 1 & ***.541.564-** & FELLIPE JOSE DA ROCHA MUNT    &            -2 & NAO SE APLICA                                 & SAQUE CASH/ATM BB       & 19/12/2012 &  70\\\\\n\t2 & 63000 & Advocacia-Geral da União & 63000 & Advocacia-Geral da União - Unidades com vínculo direto & 110096 & SUPERINTENDENCIA ADMINISTRACAO EM PERNAMBUCO & 2013 & 1 & ***.232.401-** & IZAR ARLINDO DANTAS           & 7598094000191 & P W COMERCIO DE MATERIAIS DE CONSTRUCOES LTDA & COMPRA A/V - R\\$ - APRES & 29/11/2012 & 300\\\\\n\t3 & 63000 & Advocacia-Geral da União & 63000 & Advocacia-Geral da União - Unidades com vínculo direto & 110096 & SUPERINTENDENCIA ADMINISTRACAO EM PERNAMBUCO & 2013 & 1 & ***.492.683-** & FERNANDO LEITE MATOS          & 2550672000449 & SPINDOLA GAS LTDA                             & COMPRA A/V - R\\$ - APRES & 04/12/2012 &  37\\\\\n\t4 & 63000 & Advocacia-Geral da União & 63000 & Advocacia-Geral da União - Unidades com vínculo direto & 110096 & SUPERINTENDENCIA ADMINISTRACAO EM PERNAMBUCO & 2013 & 1 & ***.562.794-** & FABIO NOBRE CALIFE            & 2537707000167 & ANDRADE ARTIGOS PARA PRESENTES LTDA           & COMPRA A/V - R\\$ - APRES & 13/12/2012 &  30\\\\\n\t5 & 63000 & Advocacia-Geral da União & 63000 & Advocacia-Geral da União - Unidades com vínculo direto & 110096 & SUPERINTENDENCIA ADMINISTRACAO EM PERNAMBUCO & 2013 & 1 & ***.906.824-** & VLADIMIR XAVIER VASQUES VIANA & 1106085000150 & POSTO DE COMBUSTIVEIS SAO MARCOS LTDA         & COMPRA A/V - R\\$ - APRES & 14/12/2012 &  37\\\\\n\t6 & 63000 & Advocacia-Geral da União & 63000 & Advocacia-Geral da União - Unidades com vínculo direto & 110096 & SUPERINTENDENCIA ADMINISTRACAO EM PERNAMBUCO & 2013 & 1 & ***.996.185-** & CELIMAR DA FONSECA HAGE       & 4105190000162 & COMERCIAL DE COUROS E PLASTICOS ILHEUS LTDA   & COMPRA A/V - R\\$ - APRES & 30/11/2012 & 211\\\\\n\\end{tabular}\n",
            "text/plain": [
              "  CODIGO_ORGAO_SUPERIOR NOME_ORGAO_SUPERIOR      CODIGO_ORGAO\n",
              "1 63000                 Advocacia-Geral da União 63000       \n",
              "2 63000                 Advocacia-Geral da União 63000       \n",
              "3 63000                 Advocacia-Geral da União 63000       \n",
              "4 63000                 Advocacia-Geral da União 63000       \n",
              "5 63000                 Advocacia-Geral da União 63000       \n",
              "6 63000                 Advocacia-Geral da União 63000       \n",
              "  NOME_ORGAO                                             CODIGO_UNIDADE_GESTORA\n",
              "1 Advocacia-Geral da União - Unidades com vínculo direto 110096                \n",
              "2 Advocacia-Geral da União - Unidades com vínculo direto 110096                \n",
              "3 Advocacia-Geral da União - Unidades com vínculo direto 110096                \n",
              "4 Advocacia-Geral da União - Unidades com vínculo direto 110096                \n",
              "5 Advocacia-Geral da União - Unidades com vínculo direto 110096                \n",
              "6 Advocacia-Geral da União - Unidades com vínculo direto 110096                \n",
              "  NOME_UNIDADE_GESTORA                         ANO_EXTRATO MES_EXTRATO\n",
              "1 SUPERINTENDENCIA ADMINISTRACAO EM PERNAMBUCO 2013        1          \n",
              "2 SUPERINTENDENCIA ADMINISTRACAO EM PERNAMBUCO 2013        1          \n",
              "3 SUPERINTENDENCIA ADMINISTRACAO EM PERNAMBUCO 2013        1          \n",
              "4 SUPERINTENDENCIA ADMINISTRACAO EM PERNAMBUCO 2013        1          \n",
              "5 SUPERINTENDENCIA ADMINISTRACAO EM PERNAMBUCO 2013        1          \n",
              "6 SUPERINTENDENCIA ADMINISTRACAO EM PERNAMBUCO 2013        1          \n",
              "  CPF_PORTADOR   NOME_PORTADOR                 CNPJ_OU_CPF_FAVORECIDO\n",
              "1 ***.541.564-** FELLIPE JOSE DA ROCHA MUNT               -2         \n",
              "2 ***.232.401-** IZAR ARLINDO DANTAS           7598094000191         \n",
              "3 ***.492.683-** FERNANDO LEITE MATOS          2550672000449         \n",
              "4 ***.562.794-** FABIO NOBRE CALIFE            2537707000167         \n",
              "5 ***.906.824-** VLADIMIR XAVIER VASQUES VIANA 1106085000150         \n",
              "6 ***.996.185-** CELIMAR DA FONSECA HAGE       4105190000162         \n",
              "  NOME_FAVORECIDO                               TRANSACAO              \n",
              "1 NAO SE APLICA                                 SAQUE CASH/ATM BB      \n",
              "2 P W COMERCIO DE MATERIAIS DE CONSTRUCOES LTDA COMPRA A/V - R$ - APRES\n",
              "3 SPINDOLA GAS LTDA                             COMPRA A/V - R$ - APRES\n",
              "4 ANDRADE ARTIGOS PARA PRESENTES LTDA           COMPRA A/V - R$ - APRES\n",
              "5 POSTO DE COMBUSTIVEIS SAO MARCOS LTDA         COMPRA A/V - R$ - APRES\n",
              "6 COMERCIAL DE COUROS E PLASTICOS ILHEUS LTDA   COMPRA A/V - R$ - APRES\n",
              "  DATA_TRANSACAO VALOR_TRANSACAO\n",
              "1 19/12/2012      70            \n",
              "2 29/11/2012     300            \n",
              "3 04/12/2012      37            \n",
              "4 13/12/2012      30            \n",
              "5 14/12/2012      37            \n",
              "6 30/11/2012     211            "
            ]
          },
          "metadata": {}
        }
      ]
    },
    {
      "cell_type": "markdown",
      "source": [
        "# Desafios\n"
      ],
      "metadata": {
        "id": "PkhN9Lm0Sjpj"
      }
    },
    {
      "cell_type": "markdown",
      "source": [
        "## Desafio 1 \n",
        "\n",
        "Qual ano teve o menor gasto das despesas governamentais?  "
      ],
      "metadata": {
        "id": "HPCdDm2oSn1A"
      }
    },
    {
      "cell_type": "code",
      "source": [],
      "metadata": {
        "id": "YliVlCcMSx79"
      },
      "execution_count": null,
      "outputs": []
    },
    {
      "cell_type": "markdown",
      "source": [
        "## Desafio 2\n",
        "\n",
        "Boa parte do dados estão em sigilo e não é possivel ver quem utilizou. Mas qual o nome da pessoa que mais utilizou o cartão corporativo no periodo e quanto ele gastou?"
      ],
      "metadata": {
        "id": "jMgIvwqlaJOa"
      }
    },
    {
      "cell_type": "code",
      "source": [],
      "metadata": {
        "id": "eBln36cyZPBq"
      },
      "execution_count": null,
      "outputs": []
    },
    {
      "cell_type": "markdown",
      "source": [
        "## Desafio 3\n"
      ],
      "metadata": {
        "id": "5HLgE0ApaX4O"
      }
    },
    {
      "cell_type": "code",
      "source": [
        "# carregar a tabela de presidentes\n",
        "presidentes <- data.frame(NOME_PRESIDENTE = c(\"Dilma Rousseff\",\"Dilma Rousseff\",\"Dilma Rousseff\",\"Dilma Rousseff\",\"Michel Temer\", \"Michel Temer\", \"Jair Bolsonaro\", \"Jair Bolsonaro\", \"Jair Bolsonaro\", \"Jair Bolsonaro\"),\n",
        "                          ANO_EXTRATO = c(2013:2022))\n",
        "\n",
        "                          \n",
        "\n",
        "# unir a tabela de gastos com a tabela de presidentes\n",
        "dados_cpgf_presidentes <- left_join(dados_cpgf, presidentes, by = \"ANO_EXTRATO\")\n"
      ],
      "metadata": {
        "id": "TUFZ2TNRacuh"
      },
      "execution_count": null,
      "outputs": []
    },
    {
      "cell_type": "markdown",
      "source": [
        "## Desafio 4\n",
        "\n",
        "Agora que já fizemos algumas análises dos dados, vamos criar uma tabela (PIVOT) que mostre o total de gastos por ano e por órgão superior. Essa tabela deve ter o nome do orgao superior  na primeira coluna e, nas demais colunas, os nanos. Cada célula deve mostrar o total gasto pelo órgão no ano correspondente.\n",
        "\n",
        "Para realizar esse exercício, siga os seguintes passos:\n",
        "\n",
        "1. Utilize a função select para escolher apenas as colunas ANO_EXTRATO, NOME_ORGAO_SUPERIOR e VALOR_TRANSACAO.\n",
        "2. Utilize a função group_by para agrupar os dados por ano e nome do órgão superior.\n",
        "3. Utilize a função summarize para somar os valores de VALOR_TRANSACAO para cada grupo.\n",
        "4. Utilize a função pivot_wider para transformar os dados em uma tabela (PIVOT) no formato desejado.\n",
        "5. Salve a tabela final em um objeto chamado tabela_gastos."
      ],
      "metadata": {
        "id": "CPS-saSPcVSu"
      }
    },
    {
      "cell_type": "code",
      "source": [
        "   "
      ],
      "metadata": {
        "id": "dOj1UFOHcIVV"
      },
      "execution_count": null,
      "outputs": []
    }
  ]
}